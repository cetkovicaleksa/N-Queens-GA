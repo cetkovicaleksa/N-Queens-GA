{
 "cells": [
  {
   "cell_type": "markdown",
   "metadata": {},
   "source": [
    "<h2 id=\"opis-problema\">1. Opis problema</h2>"
   ]
  },
  {
   "cell_type": "markdown",
   "metadata": {},
   "source": [
    "<h3 id=\"opis-problema-1\">1.1 Problem N kraljica</h3>\n",
    "\n",
    "\n",
    "Problem N kraljica je vrlo jednostavan i definiše se na sleći način. Zadata je šahovska tabla veličine N x N, na koju treba postaviti N kraljica tako da se nijedan par kraljica ne može napadati. To znači da se u jednom redu, koloni i na jednoj dijagonali može naći najviše jedna kraljica."
   ]
  },
  {
   "cell_type": "markdown",
   "metadata": {},
   "source": [
    "<h3 id=\"opis-problema-2\">1.2 Kompleksnost problema</h3>\n",
    "\n",
    "Ono što otežava ovaj problem jeste da za veličinu table N postoji $\\binom{N^2}{N}$ načina da na tablu postavimo N kraljica. Na slici ispod prikazano je jedno rješenje za problem 8 kraljica (od 92 jedinstvena rješenja).\n",
    "\n",
    "&nbsp;\n",
    "\n",
    "<figure id=\"fig-1\" style=\"text-align:center\">\n",
    "    <img src=\"https://upload.wikimedia.org/wikipedia/commons/9/93/%D7%97%D7%99%D7%93%D7%AA_%D7%A9%D7%9E%D7%95%D7%A0%D7%94_%D7%94%D7%9E%D7%9C%D7%9B%D7%95%D7%AA.jpg\"\n",
    "    alt=\"rješenje problema 8 kraljica\">\n",
    "    <figcaption>Slika 1: rješenje problema 8 kraljica</figcaption>\n",
    "</figure>\n",
    "\n",
    "&nbsp;\n",
    "\n",
    "Međutim veliki broj mogucih rješenja (postavki N kraljica na N x N tabli) koja nam nisu iteresantna možemo eliminisati kada bi rješenje predstavili kao uređenu N-torku. Indeks elementa u torci ce oznacavati kolonu u kojem se kraljica nalazi, a vrijednost elementa red.\n",
    "\n",
    "&nbsp;\n",
    "\n",
    "$$\n",
    "(r_0, r_1, \\ldots, r_{N-1}) \\hspace{3em} r_i \\in \\{0, 1, \\ldots, N-1\\}\n",
    "$$\n",
    "\n",
    "&nbsp;\n",
    " \n",
    "Ovom predstavom eliminišemo konflikte kraljica po kolonama zato što u svakoj koloni imamo tačno jednu kraljicu. Ako bi torka sadržala elemente koji se ne ponavljaju onda ni konflikti po redovima ne bi tili moguci pa bi time smanjili broj mogucih rješenja na $N!$. ..."
   ]
  },
  {
   "cell_type": "markdown",
   "metadata": {},
   "source": [
    "<h2 id=\"uvod\">2. Uvod</h2>\n",
    "\n",
    "<h3 id=\"uvod-1\">2.1 Struktura programa</h3>\n",
    "\n",
    "Većina izvornog koda programa se nalazi u folderu source. U source/plotting se nalaze pomoćne funkcije koje ćemo koristiti za prikaz grafova. Dok se u folderu source/genetic nalaze sve implementacije svih dijelova genetskog algoritma kroz koje cemo preci u [implementaciji [3]](#implementacija).\n",
    "\n",
    "- N_QUEENS_GA\n",
    "    - source\n",
    "        - genetic\n",
    "            - representation.py\n",
    "            - heuristics.py\n",
    "            - selection.py\n",
    "            - crossover.py\n",
    "            - mutation.py\n",
    "        - plotting\n",
    "            - queensplot.py\n",
    "            - resources\n",
    "    - docs\n",
    "\n",
    "&nbsp;\n",
    "\n",
    "representation : \n",
    "- Sardži klase za predstavu jedinki koje imaju kao atribut prilagodjenost kako bi se nad njima mogla vršiti selekcija.\n",
    "- Funkcije za pretvaranje matricnog oblika problema u permutaciju i obrnuto\n",
    "- Generisanje pseudo-slucajnih jedinki\n",
    "\n",
    "heuristics :\n",
    "- Funkcija za racunanje dijagonalnih konflikta\n",
    "\n",
    "???"
   ]
  },
  {
   "cell_type": "code",
   "execution_count": 1,
   "metadata": {},
   "outputs": [
    {
     "ename": "ModuleNotFoundError",
     "evalue": "No module named 'source'",
     "output_type": "error",
     "traceback": [
      "\u001b[1;31m---------------------------------------------------------------------------\u001b[0m",
      "\u001b[1;31mModuleNotFoundError\u001b[0m                       Traceback (most recent call last)",
      "Cell \u001b[1;32mIn[1], line 1\u001b[0m\n\u001b[1;32m----> 1\u001b[0m \u001b[38;5;28;01mfrom\u001b[39;00m \u001b[38;5;21;01msource\u001b[39;00m\u001b[38;5;21;01m.\u001b[39;00m\u001b[38;5;21;01mgenetic\u001b[39;00m \u001b[38;5;28;01mimport\u001b[39;00m (\n\u001b[0;32m      2\u001b[0m     representation, heuristics,\n\u001b[0;32m      3\u001b[0m     selection, crossover,\n\u001b[0;32m      4\u001b[0m     mutation\n\u001b[0;32m      5\u001b[0m )\n\u001b[0;32m      7\u001b[0m Chromosome \u001b[38;5;241m=\u001b[39m representation\u001b[38;5;241m.\u001b[39mChromosomeWithPreCalcFitness\n",
      "\u001b[1;31mModuleNotFoundError\u001b[0m: No module named 'source'"
     ]
    }
   ],
   "source": [
    "from source.genetic import (\n",
    "    representation, heuristics,\n",
    "    selection, crossover,\n",
    "    mutation\n",
    ")"
   ]
  },
  {
   "cell_type": "markdown",
   "metadata": {},
   "source": [
    "<h3 id=\"uvod-2\">2.2 Biblioteke</h3>\n",
    "\n",
    "U projektu je korišten NumPy za reprezentaciju jedinki i operacije nad njima i Matplotlib za prikaz grafika."
   ]
  },
  {
   "cell_type": "code",
   "execution_count": 9,
   "metadata": {},
   "outputs": [],
   "source": [
    "%matplotlib inline\n",
    "import numpy as np\n",
    "import matplotlib.pyplot as plt"
   ]
  },
  {
   "cell_type": "markdown",
   "metadata": {},
   "source": [
    "<h2 id=\"implementacija\">3. Implementacija</h2>\n",
    "\n",
    "kriterijum opt, ..., onda parametri ispod, pa petlja algoritma"
   ]
  },
  {
   "cell_type": "markdown",
   "metadata": {},
   "source": [
    "<h3 id=\"implementacija-1\">3.1 Kriterijum optimalnosti</h3>\n",
    "\n",
    "Koristićemo sledeću funkciju kao kriterijum optimalnosti:"
   ]
  },
  {
   "cell_type": "code",
   "execution_count": null,
   "metadata": {},
   "outputs": [],
   "source": [
    "def fitness(chromosome) -> float:\n",
    "    return 1 / 1 + heuristics.count_diagonal_conflicts(chromosome)"
   ]
  },
  {
   "cell_type": "markdown",
   "metadata": {},
   "source": [
    "Zbog izabrane predstave rješenja neka ograničenja su već zadovoljena (svaki red i kolona sadrzi tacno jednu kraljicu). Tako da za našu procjenu prilagodjenosti mozemo samo brojati dijagonalne konflikte.\n",
    "\n",
    "Dvije kraljice se nalaze na istoj lijevoj dijagonali ako je $i-r_i=j-r_j$ i $i+r_i=j+r_j$ što se dalje može svesti na $|r_i-r_j|=|i-j|$.\n",
    "..."
   ]
  },
  {
   "cell_type": "markdown",
   "metadata": {},
   "source": [
    "<h3>"
   ]
  },
  {
   "cell_type": "code",
   "execution_count": null,
   "metadata": {},
   "outputs": [],
   "source": [
    "# TODO: recheck\n",
    "\n",
    "genetic_params = {\n",
    "    \"population_size\" : 40,\n",
    "    \"selection_method\": 'tournament', # 'tournament' | 'roulette'\n",
    "    \"selection_rate\": 1,\n",
    "    \"elitism_rate\" : 3e-1,\n",
    "    \"mutation_rate\" : 8e-1,\n",
    "    \"max_iterations\" : 1_000\n",
    "} \n",
    "\n",
    "n_queens_params = {\n",
    "    \"n\" : 8\n",
    "}\n",
    "\n",
    "\n",
    "Chromosome = representation.ChromosomeWithPreCalcFitness\n",
    "random_chromosome = lambda: representation.random_chromosome_with_precalc_fitness(n_queens_params[\"n\"])"
   ]
  },
  {
   "cell_type": "code",
   "execution_count": null,
   "metadata": {},
   "outputs": [],
   "source": [
    "from itertools import count\n",
    "\n",
    "\n",
    "population = np.array([random_chromosome() for _ in range(genetic_params[\"population_size\"])])\n",
    "\n",
    "for generation_idx in range(genetic_params[\"max_iterations\"]):\n",
    "\n",
    "    selecton = selection.selection(population)\n",
    "    children = crossover.crossover(population, selection)\n",
    "    ..."
   ]
  },
  {
   "cell_type": "markdown",
   "metadata": {},
   "source": [
    "<h2>Literatura</h2>\n",
    "\n",
    "+ [[1] Solving the n-Queens Problem Using Genetic Algorithms - Kelly D Crawford](https://dl.acm.org/doi/pdf/10.1145/130069.130128)\n",
    "+ [[2] Genetic Algorithms: Solving the N-Queens problem - Alejandro J Rico](https://aljrico.github.io/blog/genetic-algorithms/)\n",
    "+ [[3] Rješavanje problema N kraljica uz pomoć genetskog algoritma - Rene Huić](https://bib.irb.hr/datoteka/408178.Zavrsni_rad_-_Rene_Huic.pdf)\n",
    "+ [[4] Genetic Algorithms - Parent Selection](https://www.tutorialspoint.com/genetic_algorithms/genetic_algorithms_parent_selection.htm)\n",
    "+ [[5] USPOREDBA HEURISTIČKIH ALGORITAMA NA PROBLEMIMA OPTIMIRANJA, NAPRTNJAČE I PROBLEMU n-KRALJICA - Ivica Martinjak](https://www.zemris.fer.hr/~golub/ga/studenti/martinjak/Usporedba.pdf)"
   ]
  }
 ],
 "metadata": {
  "kernelspec": {
   "display_name": "Python 3",
   "language": "python",
   "name": "python3"
  },
  "language_info": {
   "codemirror_mode": {
    "name": "ipython",
    "version": 3
   },
   "file_extension": ".py",
   "mimetype": "text/x-python",
   "name": "python",
   "nbconvert_exporter": "python",
   "pygments_lexer": "ipython3",
   "version": "3.12.1"
  }
 },
 "nbformat": 4,
 "nbformat_minor": 2
}
